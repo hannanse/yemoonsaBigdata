{
 "cells": [
  {
   "cell_type": "markdown",
   "metadata": {
    "id": "qvrlQlwK09K4"
   },
   "source": [
    "# Part4.작업형 제 3유형"
   ]
  },
  {
   "cell_type": "markdown",
   "metadata": {
    "id": "OyjiEVpnxt8E"
   },
   "source": [
    "## Chapter2. 통계적 가설 검정 실습"
   ]
  },
  {
   "cell_type": "code",
   "execution_count": null,
   "metadata": {
    "colab": {
     "base_uri": "https://localhost:8080/"
    },
    "executionInfo": {
     "elapsed": 2264,
     "status": "ok",
     "timestamp": 1683553710220,
     "user": {
      "displayName": "김주현",
      "userId": "12893380438784461833"
     },
     "user_tz": -540
    },
    "id": "_1NzoskYRGjk",
    "outputId": "80ef59db-d83f-4507-eb6e-85b10c5bf209"
   },
   "outputs": [
    {
     "name": "stdout",
     "output_type": "stream",
     "text": [
      "Cloning into 'yemoonsaBigdata'...\n",
      "remote: Enumerating objects: 615, done.\u001b[K\n",
      "remote: Counting objects: 100% (252/252), done.\u001b[K\n",
      "remote: Compressing objects: 100% (152/152), done.\u001b[K\n",
      "remote: Total 615 (delta 123), reused 171 (delta 100), pack-reused 363\u001b[K\n",
      "Receiving objects: 100% (615/615), 10.73 MiB | 16.16 MiB/s, done.\n",
      "Resolving deltas: 100% (308/308), done.\n"
     ]
    }
   ],
   "source": [
    "!git clone https://github.com/AnalyticsKnight/yemoonsaBigdata/"
   ]
  },
  {
   "cell_type": "markdown",
   "metadata": {
    "id": "92Mg68qZyHU6"
   },
   "source": [
    "## 4. 일원분산분석(One-way ANOVA) 실습 - iris"
   ]
  },
  {
   "cell_type": "markdown",
   "metadata": {
    "id": "69Sf5ZiuyQgO"
   },
   "source": [
    "### (2) 사전 준비"
   ]
  },
  {
   "cell_type": "markdown",
   "metadata": {
    "id": "tAfj4mZBoFAU"
   },
   "source": [
    "#### 242-01"
   ]
  },
  {
   "cell_type": "code",
   "execution_count": null,
   "metadata": {
    "id": "Nkev4IsBuBiL"
   },
   "outputs": [],
   "source": [
    "import pandas as pd\n",
    "import scipy.stats as stats\n",
    "\n",
    "data = pd.read_csv(\"./yemoonsaBigdata/datasets/Part4/iris.csv\")"
   ]
  },
  {
   "cell_type": "markdown",
   "metadata": {
    "id": "izDd-SasyTpt"
   },
   "source": [
    "### (3) 풀이"
   ]
  },
  {
   "cell_type": "markdown",
   "metadata": {
    "id": "5eUgJyqCVNfJ"
   },
   "source": [
    "#### 243-01"
   ]
  },
  {
   "cell_type": "code",
   "execution_count": null,
   "metadata": {
    "colab": {
     "base_uri": "https://localhost:8080/"
    },
    "executionInfo": {
     "elapsed": 26,
     "status": "ok",
     "timestamp": 1683553711983,
     "user": {
      "displayName": "김주현",
      "userId": "12893380438784461833"
     },
     "user_tz": -540
    },
    "id": "maOlT-Ttu8U9",
    "outputId": "6c958997-4759-4656-b571-c3f7bd4135a6"
   },
   "outputs": [
    {
     "name": "stdout",
     "output_type": "stream",
     "text": [
      "2.77\n"
     ]
    }
   ],
   "source": [
    "result = data.loc[data['species']=='versicolor', 'sepal_width'].mean()\n",
    "print(round(result, 2))"
   ]
  },
  {
   "cell_type": "markdown",
   "metadata": {
    "id": "hN1w4ngCvdkb"
   },
   "source": [
    "#### 243-02"
   ]
  },
  {
   "cell_type": "code",
   "execution_count": null,
   "metadata": {
    "colab": {
     "base_uri": "https://localhost:8080/"
    },
    "executionInfo": {
     "elapsed": 25,
     "status": "ok",
     "timestamp": 1683553711983,
     "user": {
      "displayName": "김주현",
      "userId": "12893380438784461833"
     },
     "user_tz": -540
    },
    "id": "_9KM2HT7viKL",
    "outputId": "a8060dfd-c41f-42bb-a85b-d579f74e0689"
   },
   "outputs": [
    {
     "name": "stdout",
     "output_type": "stream",
     "text": [
      "49.16\n"
     ]
    }
   ],
   "source": [
    "X1 = data.loc[data['species']=='setosa', 'sepal_width']\n",
    "X2 = data.loc[data['species']=='versicolor', 'sepal_width']\n",
    "X3 = data.loc[data['species']=='virginica', 'sepal_width']\n",
    "\n",
    "test_result = stats.f_oneway(X1, X2, X3)\n",
    "print(round(test_result.statistic, 2))"
   ]
  },
  {
   "cell_type": "markdown",
   "metadata": {
    "id": "YijZ33FivuTA"
   },
   "source": [
    "#### 243-03"
   ]
  },
  {
   "cell_type": "code",
   "execution_count": null,
   "metadata": {
    "colab": {
     "base_uri": "https://localhost:8080/"
    },
    "executionInfo": {
     "elapsed": 24,
     "status": "ok",
     "timestamp": 1683553711984,
     "user": {
      "displayName": "김주현",
      "userId": "12893380438784461833"
     },
     "user_tz": -540
    },
    "id": "LVfnbyZnvwBr",
    "outputId": "273bc42c-6dd1-4ecc-8dfa-3878bc9a52db"
   },
   "outputs": [
    {
     "name": "stdout",
     "output_type": "stream",
     "text": [
      "0.0\n",
      "기각\n"
     ]
    }
   ],
   "source": [
    "p_value = test_result.pvalue\n",
    "\n",
    "print(round(p_value, 4))\n",
    "\n",
    "if p_value >= 0.05:\n",
    "    print('채택')\n",
    "else:\n",
    "    print('기각')"
   ]
  },
  {
   "cell_type": "markdown",
   "metadata": {
    "id": "XhmllIp-004C"
   },
   "source": [
    "## 4. 카이제곱검정(적합도 검정) 실습 – cellphone"
   ]
  },
  {
   "cell_type": "markdown",
   "metadata": {
    "id": "oaTRSpbE1bCE"
   },
   "source": [
    "### (2) 사전준비"
   ]
  },
  {
   "cell_type": "markdown",
   "metadata": {
    "id": "05PSmAPwPUdg"
   },
   "source": [
    "#### 252-01"
   ]
  },
  {
   "cell_type": "code",
   "execution_count": null,
   "metadata": {
    "id": "OKHJXjwU492V"
   },
   "outputs": [],
   "source": [
    "import pandas as pd\n",
    "import scipy.stats as stats\n",
    "\n",
    "data = pd.read_csv(\"./yemoonsaBigdata/datasets/Part4/cellphone.csv\")"
   ]
  },
  {
   "cell_type": "markdown",
   "metadata": {
    "id": "tDd745Htx6Fb"
   },
   "source": [
    "### (3) 풀이"
   ]
  },
  {
   "cell_type": "markdown",
   "metadata": {
    "id": "XrYvJyQxQoxz"
   },
   "source": [
    "#### 253-01"
   ]
  },
  {
   "cell_type": "code",
   "execution_count": null,
   "metadata": {
    "colab": {
     "base_uri": "https://localhost:8080/"
    },
    "executionInfo": {
     "elapsed": 21,
     "status": "ok",
     "timestamp": 1683553711984,
     "user": {
      "displayName": "김주현",
      "userId": "12893380438784461833"
     },
     "user_tz": -540
    },
    "id": "RP8r7FSfZ34e",
    "outputId": "702a8de2-7010-4c77-fc67-4015751df40d"
   },
   "outputs": [
    {
     "name": "stdout",
     "output_type": "stream",
     "text": [
      "      id\n",
      "제조사     \n",
      "기타     5\n",
      "삼성   117\n",
      "애플    78\n"
     ]
    }
   ],
   "source": [
    "count_df = data.groupby('제조사').count()\n",
    "print(count_df)"
   ]
  },
  {
   "cell_type": "markdown",
   "metadata": {
    "id": "MPWjc_n-Z8PX"
   },
   "source": [
    "#### 253-02"
   ]
  },
  {
   "cell_type": "code",
   "execution_count": null,
   "metadata": {
    "colab": {
     "base_uri": "https://localhost:8080/"
    },
    "executionInfo": {
     "elapsed": 19,
     "status": "ok",
     "timestamp": 1683553711984,
     "user": {
      "displayName": "김주현",
      "userId": "12893380438784461833"
     },
     "user_tz": -540
    },
    "id": "UQeoGn_CaAFe",
    "outputId": "f3c80844-7fb1-4b25-bfd7-7b817661099c"
   },
   "outputs": [
    {
     "name": "stdout",
     "output_type": "stream",
     "text": [
      "39\n"
     ]
    }
   ],
   "source": [
    "result = count_df.loc['삼성', 'id'] - count_df.loc['애플', 'id']\n",
    "print(result)"
   ]
  },
  {
   "cell_type": "markdown",
   "metadata": {
    "id": "Bs72V5-mavj7"
   },
   "source": [
    "#### 253-03"
   ]
  },
  {
   "cell_type": "code",
   "execution_count": null,
   "metadata": {
    "colab": {
     "base_uri": "https://localhost:8080/"
    },
    "executionInfo": {
     "elapsed": 18,
     "status": "ok",
     "timestamp": 1683553711985,
     "user": {
      "displayName": "김주현",
      "userId": "12893380438784461833"
     },
     "user_tz": -540
    },
    "id": "LTLaTCFnjZC9",
    "outputId": "1e29fdec-12dd-4998-d2c3-082fe6407fee"
   },
   "outputs": [
    {
     "name": "stdout",
     "output_type": "stream",
     "text": [
      "[20, 120, 60]\n"
     ]
    }
   ],
   "source": [
    "total_sum = len(data)\n",
    "expected = [int(total_sum*0.1),  # '기타' 제조사 기대빈도\n",
    "            int(total_sum*0.6),  # '삼성' 제조사 기대빈도\n",
    "            int(total_sum*0.3)   # '애플' 제조사 기대빈도\n",
    "            ] # 간단히 expected = [int(total_sum * x) for x in [0.1, 0.6, 0.3]] 로 쓸 수 있습니다.\n",
    "\n",
    "print(expected)"
   ]
  },
  {
   "cell_type": "markdown",
   "metadata": {
    "id": "D-8w5l9cayMR"
   },
   "source": [
    "#### 253-04"
   ]
  },
  {
   "cell_type": "code",
   "execution_count": null,
   "metadata": {
    "colab": {
     "base_uri": "https://localhost:8080/"
    },
    "executionInfo": {
     "elapsed": 17,
     "status": "ok",
     "timestamp": 1683553711985,
     "user": {
      "displayName": "김주현",
      "userId": "12893380438784461833"
     },
     "user_tz": -540
    },
    "id": "QVlwrQNQ36QW",
    "outputId": "2201a18d-c585-4930-a947-2308aec20e00"
   },
   "outputs": [
    {
     "data": {
      "text/plain": [
       "[20, 120, 60]"
      ]
     },
     "execution_count": 12,
     "metadata": {},
     "output_type": "execute_result"
    }
   ],
   "source": [
    "expected"
   ]
  },
  {
   "cell_type": "code",
   "execution_count": null,
   "metadata": {
    "colab": {
     "base_uri": "https://localhost:8080/"
    },
    "executionInfo": {
     "elapsed": 15,
     "status": "ok",
     "timestamp": 1683553711985,
     "user": {
      "displayName": "김주현",
      "userId": "12893380438784461833"
     },
     "user_tz": -540
    },
    "id": "dgCLR3xQ3XDn",
    "outputId": "ad46b60a-5abb-4ae1-e0a0-5cadd14d9332"
   },
   "outputs": [
    {
     "name": "stdout",
     "output_type": "stream",
     "text": [
      "16.73\n"
     ]
    }
   ],
   "source": [
    "observed = count_df['id'].values\n",
    "test_result = stats.chisquare(observed, f_exp=expected)\n",
    "\n",
    "result = round(test_result.statistic, 2)\n",
    "\n",
    "print(result)"
   ]
  },
  {
   "cell_type": "markdown",
   "metadata": {
    "id": "vRoHJ4WI3Umg"
   },
   "source": [
    "#### 253-05"
   ]
  },
  {
   "cell_type": "code",
   "execution_count": null,
   "metadata": {
    "colab": {
     "base_uri": "https://localhost:8080/"
    },
    "executionInfo": {
     "elapsed": 13,
     "status": "ok",
     "timestamp": 1683553711985,
     "user": {
      "displayName": "김주현",
      "userId": "12893380438784461833"
     },
     "user_tz": -540
    },
    "id": "TpBjs9DQa0QL",
    "outputId": "bd72c10c-acc4-4fd0-913f-a50b95efd75d"
   },
   "outputs": [
    {
     "name": "stdout",
     "output_type": "stream",
     "text": [
      "0.0002\n",
      "기각\n"
     ]
    }
   ],
   "source": [
    "p_value = test_result.pvalue\n",
    "\n",
    "print(round(p_value, 4))\n",
    "\n",
    "if p_value >= 0.05:\n",
    "    print('채택')\n",
    "else:\n",
    "    print('기각')"
   ]
  },
  {
   "cell_type": "markdown",
   "metadata": {
    "id": "ECLVLOgByA-c"
   },
   "source": [
    "## 5. 카이제곱검정(독립성 검정) 실습 - student"
   ]
  },
  {
   "cell_type": "markdown",
   "metadata": {
    "id": "VRoB8s8iyMI8"
   },
   "source": [
    "### (2) 사전 준비"
   ]
  },
  {
   "cell_type": "markdown",
   "metadata": {
    "id": "tOY_jbXXjZOG"
   },
   "source": [
    "#### 262-01"
   ]
  },
  {
   "cell_type": "code",
   "execution_count": null,
   "metadata": {
    "id": "dugCg-6Ted1E"
   },
   "outputs": [],
   "source": [
    "import pandas as pd\n",
    "import scipy.stats as stats\n",
    "\n",
    "data = pd.read_csv(\"./yemoonsaBigdata/datasets/Part4/student.csv\")"
   ]
  },
  {
   "cell_type": "code",
   "execution_count": null,
   "metadata": {
    "colab": {
     "base_uri": "https://localhost:8080/",
     "height": 206
    },
    "executionInfo": {
     "elapsed": 4,
     "status": "ok",
     "timestamp": 1683553744252,
     "user": {
      "displayName": "김주현",
      "userId": "12893380438784461833"
     },
     "user_tz": -540
    },
    "id": "feKqXcXLn2B_",
    "outputId": "abc55337-d111-48ab-bdb8-8c39dc3a089a"
   },
   "outputs": [
    {
     "data": {
      "text/html": [
       "\n",
       "  <div id=\"df-8f85112b-7a47-483a-8a2f-50a72501a9db\">\n",
       "    <div class=\"colab-df-container\">\n",
       "      <div>\n",
       "<style scoped>\n",
       "    .dataframe tbody tr th:only-of-type {\n",
       "        vertical-align: middle;\n",
       "    }\n",
       "\n",
       "    .dataframe tbody tr th {\n",
       "        vertical-align: top;\n",
       "    }\n",
       "\n",
       "    .dataframe thead th {\n",
       "        text-align: right;\n",
       "    }\n",
       "</style>\n",
       "<table border=\"1\" class=\"dataframe\">\n",
       "  <thead>\n",
       "    <tr style=\"text-align: right;\">\n",
       "      <th></th>\n",
       "      <th>ID</th>\n",
       "      <th>단과대학</th>\n",
       "      <th>수강 과목 수</th>\n",
       "    </tr>\n",
       "  </thead>\n",
       "  <tbody>\n",
       "    <tr>\n",
       "      <th>0</th>\n",
       "      <td>1</td>\n",
       "      <td>경영대학</td>\n",
       "      <td>4개 이하</td>\n",
       "    </tr>\n",
       "    <tr>\n",
       "      <th>1</th>\n",
       "      <td>2</td>\n",
       "      <td>경영대학</td>\n",
       "      <td>4개 이하</td>\n",
       "    </tr>\n",
       "    <tr>\n",
       "      <th>2</th>\n",
       "      <td>3</td>\n",
       "      <td>경영대학</td>\n",
       "      <td>4개 이하</td>\n",
       "    </tr>\n",
       "    <tr>\n",
       "      <th>3</th>\n",
       "      <td>4</td>\n",
       "      <td>경영대학</td>\n",
       "      <td>4개 이하</td>\n",
       "    </tr>\n",
       "    <tr>\n",
       "      <th>4</th>\n",
       "      <td>5</td>\n",
       "      <td>경영대학</td>\n",
       "      <td>4개 이하</td>\n",
       "    </tr>\n",
       "  </tbody>\n",
       "</table>\n",
       "</div>\n",
       "      <button class=\"colab-df-convert\" onclick=\"convertToInteractive('df-8f85112b-7a47-483a-8a2f-50a72501a9db')\"\n",
       "              title=\"Convert this dataframe to an interactive table.\"\n",
       "              style=\"display:none;\">\n",
       "        \n",
       "  <svg xmlns=\"http://www.w3.org/2000/svg\" height=\"24px\"viewBox=\"0 0 24 24\"\n",
       "       width=\"24px\">\n",
       "    <path d=\"M0 0h24v24H0V0z\" fill=\"none\"/>\n",
       "    <path d=\"M18.56 5.44l.94 2.06.94-2.06 2.06-.94-2.06-.94-.94-2.06-.94 2.06-2.06.94zm-11 1L8.5 8.5l.94-2.06 2.06-.94-2.06-.94L8.5 2.5l-.94 2.06-2.06.94zm10 10l.94 2.06.94-2.06 2.06-.94-2.06-.94-.94-2.06-.94 2.06-2.06.94z\"/><path d=\"M17.41 7.96l-1.37-1.37c-.4-.4-.92-.59-1.43-.59-.52 0-1.04.2-1.43.59L10.3 9.45l-7.72 7.72c-.78.78-.78 2.05 0 2.83L4 21.41c.39.39.9.59 1.41.59.51 0 1.02-.2 1.41-.59l7.78-7.78 2.81-2.81c.8-.78.8-2.07 0-2.86zM5.41 20L4 18.59l7.72-7.72 1.47 1.35L5.41 20z\"/>\n",
       "  </svg>\n",
       "      </button>\n",
       "      \n",
       "  <style>\n",
       "    .colab-df-container {\n",
       "      display:flex;\n",
       "      flex-wrap:wrap;\n",
       "      gap: 12px;\n",
       "    }\n",
       "\n",
       "    .colab-df-convert {\n",
       "      background-color: #E8F0FE;\n",
       "      border: none;\n",
       "      border-radius: 50%;\n",
       "      cursor: pointer;\n",
       "      display: none;\n",
       "      fill: #1967D2;\n",
       "      height: 32px;\n",
       "      padding: 0 0 0 0;\n",
       "      width: 32px;\n",
       "    }\n",
       "\n",
       "    .colab-df-convert:hover {\n",
       "      background-color: #E2EBFA;\n",
       "      box-shadow: 0px 1px 2px rgba(60, 64, 67, 0.3), 0px 1px 3px 1px rgba(60, 64, 67, 0.15);\n",
       "      fill: #174EA6;\n",
       "    }\n",
       "\n",
       "    [theme=dark] .colab-df-convert {\n",
       "      background-color: #3B4455;\n",
       "      fill: #D2E3FC;\n",
       "    }\n",
       "\n",
       "    [theme=dark] .colab-df-convert:hover {\n",
       "      background-color: #434B5C;\n",
       "      box-shadow: 0px 1px 3px 1px rgba(0, 0, 0, 0.15);\n",
       "      filter: drop-shadow(0px 1px 2px rgba(0, 0, 0, 0.3));\n",
       "      fill: #FFFFFF;\n",
       "    }\n",
       "  </style>\n",
       "\n",
       "      <script>\n",
       "        const buttonEl =\n",
       "          document.querySelector('#df-8f85112b-7a47-483a-8a2f-50a72501a9db button.colab-df-convert');\n",
       "        buttonEl.style.display =\n",
       "          google.colab.kernel.accessAllowed ? 'block' : 'none';\n",
       "\n",
       "        async function convertToInteractive(key) {\n",
       "          const element = document.querySelector('#df-8f85112b-7a47-483a-8a2f-50a72501a9db');\n",
       "          const dataTable =\n",
       "            await google.colab.kernel.invokeFunction('convertToInteractive',\n",
       "                                                     [key], {});\n",
       "          if (!dataTable) return;\n",
       "\n",
       "          const docLinkHtml = 'Like what you see? Visit the ' +\n",
       "            '<a target=\"_blank\" href=https://colab.research.google.com/notebooks/data_table.ipynb>data table notebook</a>'\n",
       "            + ' to learn more about interactive tables.';\n",
       "          element.innerHTML = '';\n",
       "          dataTable['output_type'] = 'display_data';\n",
       "          await google.colab.output.renderOutput(dataTable, element);\n",
       "          const docLink = document.createElement('div');\n",
       "          docLink.innerHTML = docLinkHtml;\n",
       "          element.appendChild(docLink);\n",
       "        }\n",
       "      </script>\n",
       "    </div>\n",
       "  </div>\n",
       "  "
      ],
      "text/plain": [
       "   ID  단과대학 수강 과목 수\n",
       "0   1  경영대학   4개 이하\n",
       "1   2  경영대학   4개 이하\n",
       "2   3  경영대학   4개 이하\n",
       "3   4  경영대학   4개 이하\n",
       "4   5  경영대학   4개 이하"
      ]
     },
     "execution_count": 20,
     "metadata": {},
     "output_type": "execute_result"
    }
   ],
   "source": [
    "data.head()"
   ]
  },
  {
   "cell_type": "markdown",
   "metadata": {
    "id": "ieJQf1U_yO6N"
   },
   "source": [
    "### (3) 풀이"
   ]
  },
  {
   "cell_type": "markdown",
   "metadata": {
    "id": "drzE8vx_maC-"
   },
   "source": [
    "#### 263-01"
   ]
  },
  {
   "cell_type": "code",
   "execution_count": null,
   "metadata": {
    "colab": {
     "base_uri": "https://localhost:8080/"
    },
    "executionInfo": {
     "elapsed": 12,
     "status": "ok",
     "timestamp": 1683553711986,
     "user": {
      "displayName": "김주현",
      "userId": "12893380438784461833"
     },
     "user_tz": -540
    },
    "id": "OFemoeUgehJ3",
    "outputId": "e6509647-8f92-4343-8421-55a0ad4ffcc8"
   },
   "outputs": [
    {
     "name": "stdout",
     "output_type": "stream",
     "text": [
      "수강 과목 수  4개 이하  5개  6개 이상\n",
      "단과대학                     \n",
      "경영대학        12  78     30\n",
      "공과대학        30  42     28\n",
      "자연대학        30  42      8\n"
     ]
    }
   ],
   "source": [
    "table = pd.crosstab(data['단과대학'], data['수강 과목 수'])\n",
    "print(table)"
   ]
  },
  {
   "cell_type": "markdown",
   "metadata": {
    "id": "dMk8Jp3cG_wn"
   },
   "source": [
    "#### 263-02"
   ]
  },
  {
   "cell_type": "code",
   "execution_count": null,
   "metadata": {
    "colab": {
     "base_uri": "https://localhost:8080/"
    },
    "executionInfo": {
     "elapsed": 11,
     "status": "ok",
     "timestamp": 1683553711986,
     "user": {
      "displayName": "김주현",
      "userId": "12893380438784461833"
     },
     "user_tz": -540
    },
    "id": "ZgmlMJFhG9Z_",
    "outputId": "670d4c17-0b0e-4b21-9325-2a2ff84b86e6"
   },
   "outputs": [
    {
     "name": "stdout",
     "output_type": "stream",
     "text": [
      "경영대학\n"
     ]
    }
   ],
   "source": [
    "result = table[table['6개 이상']==table['6개 이상'].max()].index[0]\n",
    "print(result)"
   ]
  },
  {
   "cell_type": "markdown",
   "metadata": {
    "id": "4gm3I_U9naaH"
   },
   "source": [
    "#### 263-03"
   ]
  },
  {
   "cell_type": "code",
   "execution_count": null,
   "metadata": {
    "colab": {
     "base_uri": "https://localhost:8080/"
    },
    "executionInfo": {
     "elapsed": 9,
     "status": "ok",
     "timestamp": 1683553711986,
     "user": {
      "displayName": "김주현",
      "userId": "12893380438784461833"
     },
     "user_tz": -540
    },
    "id": "d5JSRCxAnm6C",
    "outputId": "f543e89b-9927-45ba-b6a5-bc551031c46b"
   },
   "outputs": [
    {
     "name": "stdout",
     "output_type": "stream",
     "text": [
      "30.13\n"
     ]
    }
   ],
   "source": [
    "X1 = table.loc['경영대학', :]\n",
    "X2 = table.loc['자연대학', :]\n",
    "X3 = table.loc['공과대학', :]\n",
    "\n",
    "test_result = stats.chi2_contingency([X1, X2, X3])\n",
    "result = test_result.statistic\n",
    "print(round(result, 2))"
   ]
  },
  {
   "cell_type": "code",
   "execution_count": null,
   "metadata": {},
   "outputs": [],
   "source": [
    "X1 = table.loc['경영대학']\n",
    "X2 = table.loc['자연대학']\n",
    "X3 = table.loc['공과대학']\n",
    "\n",
    "test_result = stats.chi2_contingency([X1, X2, X3])\n",
    "result = test_result.statistic\n",
    "print(round(result, 2))"
   ]
  },
  {
   "cell_type": "markdown",
   "metadata": {
    "id": "7W527R11oC8I"
   },
   "source": [
    "#### 263-04"
   ]
  },
  {
   "cell_type": "code",
   "execution_count": null,
   "metadata": {
    "colab": {
     "base_uri": "https://localhost:8080/"
    },
    "executionInfo": {
     "elapsed": 9,
     "status": "ok",
     "timestamp": 1683553711987,
     "user": {
      "displayName": "김주현",
      "userId": "12893380438784461833"
     },
     "user_tz": -540
    },
    "id": "OuOkBk0jpuwN",
    "outputId": "3da84d3d-6648-4cc1-ead7-307f94ab8492"
   },
   "outputs": [
    {
     "name": "stdout",
     "output_type": "stream",
     "text": [
      "0.0\n",
      "기각\n"
     ]
    }
   ],
   "source": [
    "p_value = test_result.pvalue\n",
    "\n",
    "print(round(p_value, 4))\n",
    "\n",
    "if p_value >= 0.05:\n",
    "    print('채택')\n",
    "else:\n",
    "    print('기각')"
   ]
  }
 ],
 "metadata": {
  "colab": {
   "provenance": []
  },
  "kernelspec": {
   "display_name": "Python 3",
   "name": "python3"
  },
  "language_info": {
   "name": "python"
  }
 },
 "nbformat": 4,
 "nbformat_minor": 0
}
